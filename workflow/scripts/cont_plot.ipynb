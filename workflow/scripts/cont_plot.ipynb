{
 "cells": [
  {
   "cell_type": "code",
   "execution_count": 2,
   "metadata": {},
   "outputs": [],
   "source": [
    "import pandas as pd\n",
    "import altair as alt"
   ]
  },
  {
   "cell_type": "code",
   "execution_count": 3,
   "metadata": {},
   "outputs": [
    {
     "name": "stdout",
     "output_type": "stream",
     "text": [
      "      sample  reads_mapped contamination    color\n",
      "0  I15566-L1        107793      0.005899  #6ea165\n",
      "1   115_L001          1068      0.000051  #6ea165\n",
      "2   139_L001           260      0.000013  #6ea165\n"
     ]
    }
   ],
   "source": [
    "samples=[\"I15566-L1\",\"115_L001\",\"139_L001\"]\n",
    "cont_warning= 50\n",
    "\n",
    "sum_dict={}\n",
    "for sample in samples:\n",
    "    sample_sum_dict = {}\n",
    "    stats_path=f\"../../results/23_12_18/contamination/stats_{sample}.txt\"\n",
    "    with open(stats_path, \"r\") as stats:\n",
    "        for line in stats:\n",
    "            if line.startswith(\"SN\tsequences\"):\n",
    "                total=line.split(\":\")[-1].strip()\n",
    "                continue\n",
    "            elif line.startswith(\"SN\treads mapped\"):\n",
    "                mapped=line.split(\":\")[-1].strip()\n",
    "                sample_sum_dict[\"reads_mapped\"] =int(mapped)\n",
    "\n",
    "                prc=(int(mapped)/int(total))\n",
    "                sample_sum_dict[\"contamination\"] = \"%.6f\" % prc\n",
    "\n",
    "                if prc >= cont_warning:\n",
    "                    sample_sum_dict[\"color\"] = \"#9A0430\"\n",
    "                else:\n",
    "                    sample_sum_dict[\"color\"] = \"#6ea165\"\n",
    "\n",
    "                break\n",
    "\n",
    "    sum_dict[sample]=sample_sum_dict\n",
    "\n",
    "sum_df = pd.DataFrame.from_dict(sum_dict, orient=\"index\")\n",
    "#sum_df.index.name = \"sample\"\n",
    "#sum_df.insert(0,'sample','')\n",
    "#sum_df['sample'] = sum_df.index\n",
    "sum_df = sum_df.reset_index()\n",
    "sum_df.rename(columns={\"index\":\"sample\"}, inplace=True)\n",
    "print(sum_df)"
   ]
  },
  {
   "cell_type": "code",
   "execution_count": 20,
   "metadata": {},
   "outputs": [
    {
     "ename": "SchemaValidationError",
     "evalue": "Multiple errors were found.\n\nError 1: `LayerChart` has no parameter named 'fontSize'\n\n    Existing parameter names are:\n    layer        data          height    projection   usermeta   \n    autosize     datasets      name      resolve      view       \n    background   description   padding   title        width      \n    config       encoding      params    transform               \n\n    See the help for `LayerChart` to read the full description of these parameters\n\nError 2: `LayerChart` has no parameter named 'fontSize'\n\n    Existing parameter names are:\n    layer        data          height    projection   usermeta   \n    autosize     datasets      name      resolve      view       \n    background   description   padding   title        width      \n    config       encoding      params    transform               \n\n    See the help for `LayerChart` to read the full description of these parameters",
     "output_type": "error",
     "traceback": [
      "\u001b[0;31m---------------------------------------------------------------------------\u001b[0m",
      "\u001b[0;31mSchemaValidationError\u001b[0m                     Traceback (most recent call last)",
      "Cell \u001b[0;32mIn[20], line 30\u001b[0m\n\u001b[1;32m     27\u001b[0m     \u001b[38;5;66;03m#text='human contamination (%):Q')\u001b[39;00m\n\u001b[1;32m     28\u001b[0m \u001b[38;5;66;03m#chart.mark_text(align='left', dx=2)\u001b[39;00m\n\u001b[1;32m     29\u001b[0m charty \u001b[38;5;241m=\u001b[39mbars \u001b[38;5;241m+\u001b[39m chart_text\n\u001b[0;32m---> 30\u001b[0m jchart \u001b[38;5;241m=\u001b[39m \u001b[43malt\u001b[49m\u001b[38;5;241;43m.\u001b[39;49m\u001b[43mJupyterChart\u001b[49m\u001b[43m(\u001b[49m\u001b[43mcharty\u001b[49m\u001b[43m)\u001b[49m\n\u001b[1;32m     31\u001b[0m jchart\n",
      "File \u001b[0;32m~/mambaforge/envs/plot/lib/python3.11/site-packages/altair/jupyter/jupyter_chart.py:129\u001b[0m, in \u001b[0;36mJupyterChart.__init__\u001b[0;34m(self, chart, debounce_wait, **kwargs)\u001b[0m\n\u001b[1;32m    127\u001b[0m \u001b[38;5;28mself\u001b[39m\u001b[38;5;241m.\u001b[39mparams \u001b[38;5;241m=\u001b[39m Params({})\n\u001b[1;32m    128\u001b[0m \u001b[38;5;28mself\u001b[39m\u001b[38;5;241m.\u001b[39mselections \u001b[38;5;241m=\u001b[39m Selections({})\n\u001b[0;32m--> 129\u001b[0m \u001b[38;5;28;43msuper\u001b[39;49m\u001b[43m(\u001b[49m\u001b[43m)\u001b[49m\u001b[38;5;241;43m.\u001b[39;49m\u001b[38;5;21;43m__init__\u001b[39;49m\u001b[43m(\u001b[49m\u001b[43mchart\u001b[49m\u001b[38;5;241;43m=\u001b[39;49m\u001b[43mchart\u001b[49m\u001b[43m,\u001b[49m\u001b[43m \u001b[49m\u001b[43mdebounce_wait\u001b[49m\u001b[38;5;241;43m=\u001b[39;49m\u001b[43mdebounce_wait\u001b[49m\u001b[43m,\u001b[49m\u001b[43m \u001b[49m\u001b[38;5;241;43m*\u001b[39;49m\u001b[38;5;241;43m*\u001b[39;49m\u001b[43mkwargs\u001b[49m\u001b[43m)\u001b[49m\n",
      "File \u001b[0;32m~/mambaforge/envs/plot/lib/python3.11/site-packages/anywidget/widget.py:34\u001b[0m, in \u001b[0;36mAnyWidget.__init__\u001b[0;34m(self, *args, **kwargs)\u001b[0m\n\u001b[1;32m     33\u001b[0m \u001b[38;5;28;01mdef\u001b[39;00m \u001b[38;5;21m__init__\u001b[39m(\u001b[38;5;28mself\u001b[39m, \u001b[38;5;241m*\u001b[39margs: Any, \u001b[38;5;241m*\u001b[39m\u001b[38;5;241m*\u001b[39mkwargs: Any) \u001b[38;5;241m-\u001b[39m\u001b[38;5;241m>\u001b[39m \u001b[38;5;28;01mNone\u001b[39;00m:\n\u001b[0;32m---> 34\u001b[0m     \u001b[38;5;28;43msuper\u001b[39;49m\u001b[43m(\u001b[49m\u001b[43m)\u001b[49m\u001b[38;5;241;43m.\u001b[39;49m\u001b[38;5;21;43m__init__\u001b[39;49m\u001b[43m(\u001b[49m\u001b[38;5;241;43m*\u001b[39;49m\u001b[43margs\u001b[49m\u001b[43m,\u001b[49m\u001b[43m \u001b[49m\u001b[38;5;241;43m*\u001b[39;49m\u001b[38;5;241;43m*\u001b[39;49m\u001b[43mkwargs\u001b[49m\u001b[43m)\u001b[49m\n\u001b[1;32m     36\u001b[0m     \u001b[38;5;66;03m# Add anywidget JS/CSS source as traits if not registered\u001b[39;00m\n\u001b[1;32m     37\u001b[0m     anywidget_traits \u001b[38;5;241m=\u001b[39m {}\n",
      "File \u001b[0;32m~/mambaforge/envs/plot/lib/python3.11/site-packages/ipywidgets/widgets/widget.py:503\u001b[0m, in \u001b[0;36mWidget.__init__\u001b[0;34m(self, **kwargs)\u001b[0m\n\u001b[1;32m    501\u001b[0m \u001b[38;5;250m\u001b[39m\u001b[38;5;124;03m\"\"\"Public constructor\"\"\"\u001b[39;00m\n\u001b[1;32m    502\u001b[0m \u001b[38;5;28mself\u001b[39m\u001b[38;5;241m.\u001b[39m_model_id \u001b[38;5;241m=\u001b[39m kwargs\u001b[38;5;241m.\u001b[39mpop(\u001b[38;5;124m'\u001b[39m\u001b[38;5;124mmodel_id\u001b[39m\u001b[38;5;124m'\u001b[39m, \u001b[38;5;28;01mNone\u001b[39;00m)\n\u001b[0;32m--> 503\u001b[0m \u001b[38;5;28;43msuper\u001b[39;49m\u001b[43m(\u001b[49m\u001b[43m)\u001b[49m\u001b[38;5;241;43m.\u001b[39;49m\u001b[38;5;21;43m__init__\u001b[39;49m\u001b[43m(\u001b[49m\u001b[38;5;241;43m*\u001b[39;49m\u001b[38;5;241;43m*\u001b[39;49m\u001b[43mkwargs\u001b[49m\u001b[43m)\u001b[49m\n\u001b[1;32m    505\u001b[0m Widget\u001b[38;5;241m.\u001b[39m_call_widget_constructed(\u001b[38;5;28mself\u001b[39m)\n\u001b[1;32m    506\u001b[0m \u001b[38;5;28mself\u001b[39m\u001b[38;5;241m.\u001b[39mopen()\n",
      "File \u001b[0;32m~/mambaforge/envs/plot/lib/python3.11/site-packages/traitlets/traitlets.py:1379\u001b[0m, in \u001b[0;36mHasTraits.__init__\u001b[0;34m(self, *args, **kwargs)\u001b[0m\n\u001b[1;32m   1377\u001b[0m     \u001b[38;5;28;01mdel\u001b[39;00m \u001b[38;5;28mself\u001b[39m\u001b[38;5;241m.\u001b[39mnotify_change\n\u001b[1;32m   1378\u001b[0m     \u001b[38;5;28;01mfor\u001b[39;00m key \u001b[38;5;129;01min\u001b[39;00m changed:\n\u001b[0;32m-> 1379\u001b[0m         \u001b[38;5;28;43mself\u001b[39;49m\u001b[38;5;241;43m.\u001b[39;49m\u001b[43mnotify_change\u001b[49m\u001b[43m(\u001b[49m\u001b[43mchanges\u001b[49m\u001b[43m[\u001b[49m\u001b[43mkey\u001b[49m\u001b[43m]\u001b[49m\u001b[43m)\u001b[49m\n\u001b[1;32m   1381\u001b[0m \u001b[38;5;28;01mtry\u001b[39;00m:\n\u001b[1;32m   1382\u001b[0m     \u001b[38;5;28msuper\u001b[39m()\u001b[38;5;241m.\u001b[39m\u001b[38;5;21m__init__\u001b[39m(\u001b[38;5;241m*\u001b[39msuper_args, \u001b[38;5;241m*\u001b[39m\u001b[38;5;241m*\u001b[39msuper_kwargs)\n",
      "File \u001b[0;32m~/mambaforge/envs/plot/lib/python3.11/site-packages/ipywidgets/widgets/widget.py:701\u001b[0m, in \u001b[0;36mWidget.notify_change\u001b[0;34m(self, change)\u001b[0m\n\u001b[1;32m    698\u001b[0m     \u001b[38;5;28;01mif\u001b[39;00m name \u001b[38;5;129;01min\u001b[39;00m \u001b[38;5;28mself\u001b[39m\u001b[38;5;241m.\u001b[39mkeys \u001b[38;5;129;01mand\u001b[39;00m \u001b[38;5;28mself\u001b[39m\u001b[38;5;241m.\u001b[39m_should_send_property(name, \u001b[38;5;28mgetattr\u001b[39m(\u001b[38;5;28mself\u001b[39m, name)):\n\u001b[1;32m    699\u001b[0m         \u001b[38;5;66;03m# Send new state to front-end\u001b[39;00m\n\u001b[1;32m    700\u001b[0m         \u001b[38;5;28mself\u001b[39m\u001b[38;5;241m.\u001b[39msend_state(key\u001b[38;5;241m=\u001b[39mname)\n\u001b[0;32m--> 701\u001b[0m \u001b[38;5;28;43msuper\u001b[39;49m\u001b[43m(\u001b[49m\u001b[43m)\u001b[49m\u001b[38;5;241;43m.\u001b[39;49m\u001b[43mnotify_change\u001b[49m\u001b[43m(\u001b[49m\u001b[43mchange\u001b[49m\u001b[43m)\u001b[49m\n",
      "File \u001b[0;32m~/mambaforge/envs/plot/lib/python3.11/site-packages/traitlets/traitlets.py:1528\u001b[0m, in \u001b[0;36mHasTraits.notify_change\u001b[0;34m(self, change)\u001b[0m\n\u001b[1;32m   1526\u001b[0m \u001b[38;5;28;01mdef\u001b[39;00m \u001b[38;5;21mnotify_change\u001b[39m(\u001b[38;5;28mself\u001b[39m, change):\n\u001b[1;32m   1527\u001b[0m \u001b[38;5;250m    \u001b[39m\u001b[38;5;124;03m\"\"\"Notify observers of a change event\"\"\"\u001b[39;00m\n\u001b[0;32m-> 1528\u001b[0m     \u001b[38;5;28;01mreturn\u001b[39;00m \u001b[38;5;28;43mself\u001b[39;49m\u001b[38;5;241;43m.\u001b[39;49m\u001b[43m_notify_observers\u001b[49m\u001b[43m(\u001b[49m\u001b[43mchange\u001b[49m\u001b[43m)\u001b[49m\n",
      "File \u001b[0;32m~/mambaforge/envs/plot/lib/python3.11/site-packages/traitlets/traitlets.py:1575\u001b[0m, in \u001b[0;36mHasTraits._notify_observers\u001b[0;34m(self, event)\u001b[0m\n\u001b[1;32m   1572\u001b[0m \u001b[38;5;28;01melif\u001b[39;00m \u001b[38;5;28misinstance\u001b[39m(c, EventHandler) \u001b[38;5;129;01mand\u001b[39;00m c\u001b[38;5;241m.\u001b[39mname \u001b[38;5;129;01mis\u001b[39;00m \u001b[38;5;129;01mnot\u001b[39;00m \u001b[38;5;28;01mNone\u001b[39;00m:\n\u001b[1;32m   1573\u001b[0m     c \u001b[38;5;241m=\u001b[39m \u001b[38;5;28mgetattr\u001b[39m(\u001b[38;5;28mself\u001b[39m, c\u001b[38;5;241m.\u001b[39mname)\n\u001b[0;32m-> 1575\u001b[0m \u001b[43mc\u001b[49m\u001b[43m(\u001b[49m\u001b[43mevent\u001b[49m\u001b[43m)\u001b[49m\n",
      "File \u001b[0;32m~/mambaforge/envs/plot/lib/python3.11/site-packages/altair/jupyter/jupyter_chart.py:210\u001b[0m, in \u001b[0;36mJupyterChart._on_change_chart\u001b[0;34m(self, change)\u001b[0m\n\u001b[1;32m    208\u001b[0m     \u001b[38;5;28mself\u001b[39m\u001b[38;5;241m.\u001b[39mspec \u001b[38;5;241m=\u001b[39m new_chart\u001b[38;5;241m.\u001b[39mto_dict(\u001b[38;5;28mformat\u001b[39m\u001b[38;5;241m=\u001b[39m\u001b[38;5;124m\"\u001b[39m\u001b[38;5;124mvega\u001b[39m\u001b[38;5;124m\"\u001b[39m)\n\u001b[1;32m    209\u001b[0m \u001b[38;5;28;01melse\u001b[39;00m:\n\u001b[0;32m--> 210\u001b[0m     \u001b[38;5;28mself\u001b[39m\u001b[38;5;241m.\u001b[39mspec \u001b[38;5;241m=\u001b[39m \u001b[43mnew_chart\u001b[49m\u001b[38;5;241;43m.\u001b[39;49m\u001b[43mto_dict\u001b[49m\u001b[43m(\u001b[49m\u001b[43m)\u001b[49m\n\u001b[1;32m    211\u001b[0m \u001b[38;5;28mself\u001b[39m\u001b[38;5;241m.\u001b[39m_selection_types \u001b[38;5;241m=\u001b[39m selection_types\n\u001b[1;32m    212\u001b[0m \u001b[38;5;28mself\u001b[39m\u001b[38;5;241m.\u001b[39m_vl_selections \u001b[38;5;241m=\u001b[39m initial_vl_selections\n",
      "File \u001b[0;32m~/mambaforge/envs/plot/lib/python3.11/site-packages/altair/vegalite/v5/api.py:961\u001b[0m, in \u001b[0;36mTopLevelMixin.to_dict\u001b[0;34m(self, validate, format, ignore, context)\u001b[0m\n\u001b[1;32m    956\u001b[0m context[\u001b[38;5;124m\"\u001b[39m\u001b[38;5;124mtop_level\u001b[39m\u001b[38;5;124m\"\u001b[39m] \u001b[38;5;241m=\u001b[39m \u001b[38;5;28;01mFalse\u001b[39;00m\n\u001b[1;32m    958\u001b[0m \u001b[38;5;66;03m# TopLevelMixin instance does not necessarily have to_dict defined\u001b[39;00m\n\u001b[1;32m    959\u001b[0m \u001b[38;5;66;03m# but due to how Altair is set up this should hold.\u001b[39;00m\n\u001b[1;32m    960\u001b[0m \u001b[38;5;66;03m# Too complex to type hint right now\u001b[39;00m\n\u001b[0;32m--> 961\u001b[0m vegalite_spec \u001b[38;5;241m=\u001b[39m \u001b[38;5;28;43msuper\u001b[39;49m\u001b[43m(\u001b[49m\u001b[43mTopLevelMixin\u001b[49m\u001b[43m,\u001b[49m\u001b[43m \u001b[49m\u001b[43mcopy\u001b[49m\u001b[43m)\u001b[49m\u001b[38;5;241;43m.\u001b[39;49m\u001b[43mto_dict\u001b[49m\u001b[43m(\u001b[49m\u001b[43m  \u001b[49m\u001b[38;5;66;43;03m# type: ignore[misc]\u001b[39;49;00m\n\u001b[1;32m    962\u001b[0m \u001b[43m    \u001b[49m\u001b[43mvalidate\u001b[49m\u001b[38;5;241;43m=\u001b[39;49m\u001b[43mvalidate\u001b[49m\u001b[43m,\u001b[49m\u001b[43m \u001b[49m\u001b[43mignore\u001b[49m\u001b[38;5;241;43m=\u001b[39;49m\u001b[43mignore\u001b[49m\u001b[43m,\u001b[49m\u001b[43m \u001b[49m\u001b[43mcontext\u001b[49m\u001b[38;5;241;43m=\u001b[39;49m\u001b[38;5;28;43mdict\u001b[39;49m\u001b[43m(\u001b[49m\u001b[43mcontext\u001b[49m\u001b[43m,\u001b[49m\u001b[43m \u001b[49m\u001b[43mpre_transform\u001b[49m\u001b[38;5;241;43m=\u001b[39;49m\u001b[38;5;28;43;01mFalse\u001b[39;49;00m\u001b[43m)\u001b[49m\n\u001b[1;32m    963\u001b[0m \u001b[43m\u001b[49m\u001b[43m)\u001b[49m\n\u001b[1;32m    965\u001b[0m \u001b[38;5;66;03m# TODO: following entries are added after validation. Should they be validated?\u001b[39;00m\n\u001b[1;32m    966\u001b[0m \u001b[38;5;28;01mif\u001b[39;00m is_top_level:\n\u001b[1;32m    967\u001b[0m     \u001b[38;5;66;03m# since this is top-level we add $schema if it's missing\u001b[39;00m\n",
      "File \u001b[0;32m~/mambaforge/envs/plot/lib/python3.11/site-packages/altair/utils/schemapi.py:979\u001b[0m, in \u001b[0;36mSchemaBase.to_dict\u001b[0;34m(self, validate, ignore, context)\u001b[0m\n\u001b[1;32m    972\u001b[0m         \u001b[38;5;28mself\u001b[39m\u001b[38;5;241m.\u001b[39mvalidate(result)\n\u001b[1;32m    973\u001b[0m     \u001b[38;5;28;01mexcept\u001b[39;00m jsonschema\u001b[38;5;241m.\u001b[39mValidationError \u001b[38;5;28;01mas\u001b[39;00m err:\n\u001b[1;32m    974\u001b[0m         \u001b[38;5;66;03m# We do not raise `from err` as else the resulting\u001b[39;00m\n\u001b[1;32m    975\u001b[0m         \u001b[38;5;66;03m# traceback is very long as it contains part\u001b[39;00m\n\u001b[1;32m    976\u001b[0m         \u001b[38;5;66;03m# of the Vega-Lite schema. It would also first\u001b[39;00m\n\u001b[1;32m    977\u001b[0m         \u001b[38;5;66;03m# show the less helpful ValidationError instead of\u001b[39;00m\n\u001b[1;32m    978\u001b[0m         \u001b[38;5;66;03m# the more user friendly SchemaValidationError\u001b[39;00m\n\u001b[0;32m--> 979\u001b[0m         \u001b[38;5;28;01mraise\u001b[39;00m SchemaValidationError(\u001b[38;5;28mself\u001b[39m, err) \u001b[38;5;28;01mfrom\u001b[39;00m \u001b[38;5;28;01mNone\u001b[39;00m\n\u001b[1;32m    980\u001b[0m \u001b[38;5;28;01mreturn\u001b[39;00m result\n",
      "\u001b[0;31mSchemaValidationError\u001b[0m: Multiple errors were found.\n\nError 1: `LayerChart` has no parameter named 'fontSize'\n\n    Existing parameter names are:\n    layer        data          height    projection   usermeta   \n    autosize     datasets      name      resolve      view       \n    background   description   padding   title        width      \n    config       encoding      params    transform               \n\n    See the help for `LayerChart` to read the full description of these parameters\n\nError 2: `LayerChart` has no parameter named 'fontSize'\n\n    Existing parameter names are:\n    layer        data          height    projection   usermeta   \n    autosize     datasets      name      resolve      view       \n    background   description   padding   title        width      \n    config       encoding      params    transform               \n\n    See the help for `LayerChart` to read the full description of these parameters"
     ]
    }
   ],
   "source": [
    "slider = alt.binding_range(min=0, max=100, step=0.5, name='max human contamination')\n",
    "selector = alt.param(name='SelectorName', value=50, bind=slider)\n",
    "\n",
    "\n",
    "base_chart=alt.Chart(sum_df,title=\"% human contamination\").encode(\n",
    "    alt.X('contamination:Q').axis(format='%',labelFontSize=12, titleFontSize=15).title('human contamination'),\n",
    "    alt.Y('sample:N').axis(labelFontSize=12, titleFontSize=15),\n",
    ").add_params(\n",
    "   selector\n",
    ").properties(width=600).interactive()\n",
    "\n",
    "\n",
    "bars=base_chart.mark_bar().encode(color=alt.condition(\n",
    "       alt.datum.contamination >= selector,\n",
    "       alt.value('#9A0430'),\n",
    "       alt.value('#6ea165')\n",
    "   ))\n",
    "\n",
    "\n",
    "chart_text = base_chart.mark_text(\n",
    "    align='center',\n",
    "    baseline='middle',\n",
    "    dx=20,\n",
    "    fontSize=12,\n",
    ").encode(\n",
    "    text=alt.Text(\"contamination:Q\",format='.2%'),)\n",
    "    #text='human contamination (%):Q')\n",
    "#chart.mark_text(align='left', dx=2)\n",
    "charty =bars + chart_text\n",
    "jchart = alt.JupyterChart(charty)\n",
    "jchart\n"
   ]
  },
  {
   "cell_type": "code",
   "execution_count": null,
   "metadata": {},
   "outputs": [],
   "source": [
    "chart.save('chart.html')"
   ]
  }
 ],
 "metadata": {
  "kernelspec": {
   "display_name": "Python 3",
   "language": "python",
   "name": "python3"
  },
  "language_info": {
   "codemirror_mode": {
    "name": "ipython",
    "version": 3
   },
   "file_extension": ".py",
   "mimetype": "text/x-python",
   "name": "python",
   "nbconvert_exporter": "python",
   "pygments_lexer": "ipython3",
   "version": "3.11.5"
  }
 },
 "nbformat": 4,
 "nbformat_minor": 2
}
